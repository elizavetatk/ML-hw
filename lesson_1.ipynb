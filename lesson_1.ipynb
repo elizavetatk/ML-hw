{
 "cells": [
  {
   "cell_type": "code",
   "execution_count": 93,
   "id": "a17074b8-6789-4ccb-9192-5703678c1d70",
   "metadata": {},
   "outputs": [],
   "source": [
    "import numpy as np\n",
    "import pandas as pd\n",
    "import matplotlib.pyplot as plt  \n",
    "import seaborn as sns\n",
    "\n",
    "%matplotlib inline "
   ]
  },
  {
   "cell_type": "markdown",
   "id": "610cb381-de63-44c4-8c81-2ad7030bc97c",
   "metadata": {
    "tags": []
   },
   "source": [
    "# Вспоминаем numpy"
   ]
  },
  {
   "cell_type": "markdown",
   "id": "4770c8ae-bdf8-4cbc-9496-a6ab0b7e1e71",
   "metadata": {},
   "source": [
    "В большинстве приложений для анализа данных основной интерес представляет следующая функциональность:\n",
    "+ быстрые векторные операции для переформатирования и очистки данных, выборки подмножеств и фильтрации, преобразований и других видов вычислений;\n",
    "+ стандартные алгоритмы работы с  массивами, например фильтрация, удаление дубликатов и теоретико-множественные операции;\n",
    "+ эффективная описательная статистика, агрегирование и  обобщение данных;\n",
    "+ выравнивание данных и реляционные операции объединения и соединения разнородных наборов данных;\n",
    "+ описание условной логики в виде выражений-массивов вместо циклов с ветвлением if-elif-else;\n",
    "+ групповые операции с данными (агрегирование, преобразование, применение функции)."
   ]
  },
  {
   "cell_type": "markdown",
   "id": "ef24ec91-f029-460f-bf5a-d2ee2724400d",
   "metadata": {},
   "source": [
    "**Сравнение быстродействия**"
   ]
  },
  {
   "cell_type": "code",
   "execution_count": 94,
   "id": "55315d98-df32-46a1-9677-f4d1a933b7e4",
   "metadata": {},
   "outputs": [],
   "source": [
    "array_ = np.arange(1000000)\n",
    "list_ = list(array_)"
   ]
  },
  {
   "cell_type": "code",
   "execution_count": 95,
   "id": "84e114a7-e476-4af2-9558-da97580a2f5e",
   "metadata": {},
   "outputs": [
    {
     "name": "stdout",
     "output_type": "stream",
     "text": [
      "Wall time: 3 ms\n"
     ]
    }
   ],
   "source": [
    "%%time \n",
    "array_2 = array_ * 2"
   ]
  },
  {
   "cell_type": "code",
   "execution_count": 96,
   "id": "5d472bb1-3c94-44c3-bf9d-42c9694df817",
   "metadata": {},
   "outputs": [
    {
     "name": "stdout",
     "output_type": "stream",
     "text": [
      "Wall time: 406 ms\n"
     ]
    }
   ],
   "source": [
    "%%time \n",
    "list_2 = []\n",
    "for i in list_:\n",
    "    list_2.append(i * 2)"
   ]
  },
  {
   "cell_type": "code",
   "execution_count": 97,
   "id": "ddbd9e8c-cba9-48ec-ab7f-c537f74686a8",
   "metadata": {},
   "outputs": [
    {
     "name": "stdout",
     "output_type": "stream",
     "text": [
      "Wall time: 258 ms\n"
     ]
    }
   ],
   "source": [
    "%%time \n",
    "list_2 = [i * 2 for i in list_]"
   ]
  },
  {
   "cell_type": "markdown",
   "id": "fe467d6d-d5b9-4e28-b1ba-da1e2f67b7a2",
   "metadata": {},
   "source": [
    "**Многомерные массивы**"
   ]
  },
  {
   "cell_type": "code",
   "execution_count": 98,
   "id": "3a8d55bd-8558-4cef-9406-b3443e3acf2d",
   "metadata": {},
   "outputs": [],
   "source": [
    "data = np.array([[1.5, -0.1, 3], [0, -3, 6.5]])"
   ]
  },
  {
   "cell_type": "code",
   "execution_count": 99,
   "id": "2606a171-27a6-4477-a753-9df02a7b2de0",
   "metadata": {},
   "outputs": [
    {
     "data": {
      "text/plain": [
       "array([[ 1.5, -0.1,  3. ],\n",
       "       [ 0. , -3. ,  6.5]])"
      ]
     },
     "execution_count": 99,
     "metadata": {},
     "output_type": "execute_result"
    }
   ],
   "source": [
    "data"
   ]
  },
  {
   "cell_type": "code",
   "execution_count": 100,
   "id": "97dd1cc0-513d-415a-b87a-f316233ead67",
   "metadata": {},
   "outputs": [
    {
     "data": {
      "text/plain": [
       "numpy.ndarray"
      ]
     },
     "execution_count": 100,
     "metadata": {},
     "output_type": "execute_result"
    }
   ],
   "source": [
    "type(data)"
   ]
  },
  {
   "cell_type": "code",
   "execution_count": 101,
   "id": "839140c7-1e57-49ef-9397-5ea3aeec6136",
   "metadata": {},
   "outputs": [
    {
     "data": {
      "text/plain": [
       "array([[ 3. , -0.2,  6. ],\n",
       "       [ 0. , -6. , 13. ]])"
      ]
     },
     "execution_count": 101,
     "metadata": {},
     "output_type": "execute_result"
    }
   ],
   "source": [
    "data * 2"
   ]
  },
  {
   "cell_type": "code",
   "execution_count": 102,
   "id": "eb6a3085-a763-4b67-98f5-3dec29383176",
   "metadata": {},
   "outputs": [
    {
     "data": {
      "text/plain": [
       "array([[ 3. , -0.2,  6. ],\n",
       "       [ 0. , -6. , 13. ]])"
      ]
     },
     "execution_count": 102,
     "metadata": {},
     "output_type": "execute_result"
    }
   ],
   "source": [
    "data + data"
   ]
  },
  {
   "cell_type": "markdown",
   "id": "83cf1193-f34f-4779-816a-afb1cc2d29f0",
   "metadata": {},
   "source": [
    "ndarray – это обобщенный многомерный контейнер для однородных данных, т. е. в нем могут храниться только элементы одного типа. У любого массива есть атрибут shape – кортеж, описывающий размер по каждому измерению,\n",
    "и атрибут dtype – объект, описывающий тип данных в массиве:"
   ]
  },
  {
   "cell_type": "code",
   "execution_count": 103,
   "id": "43ddfd14-73dd-442e-b78e-0f53ffcf6986",
   "metadata": {},
   "outputs": [
    {
     "data": {
      "text/plain": [
       "(2, 3)"
      ]
     },
     "execution_count": 103,
     "metadata": {},
     "output_type": "execute_result"
    }
   ],
   "source": [
    "data.shape"
   ]
  },
  {
   "cell_type": "code",
   "execution_count": 104,
   "id": "4d77de85-bcd3-434a-b5be-0325c7408e82",
   "metadata": {},
   "outputs": [
    {
     "data": {
      "text/plain": [
       "dtype('float64')"
      ]
     },
     "execution_count": 104,
     "metadata": {},
     "output_type": "execute_result"
    }
   ],
   "source": [
    "data.dtype"
   ]
  },
  {
   "cell_type": "code",
   "execution_count": 105,
   "id": "e3e882f6-1842-4715-ada6-e6bae94947a0",
   "metadata": {},
   "outputs": [
    {
     "data": {
      "text/plain": [
       "array(['str', '1'], dtype='<U11')"
      ]
     },
     "execution_count": 105,
     "metadata": {},
     "output_type": "execute_result"
    }
   ],
   "source": [
    "np.array([\"str\", 1])"
   ]
  },
  {
   "cell_type": "code",
   "execution_count": 106,
   "id": "a2595c4e-bab5-439c-9b68-15b8eedeb270",
   "metadata": {},
   "outputs": [
    {
     "ename": "UFuncTypeError",
     "evalue": "ufunc 'multiply' did not contain a loop with signature matching types (dtype('<U11'), dtype('int32')) -> None",
     "output_type": "error",
     "traceback": [
      "\u001b[1;31m---------------------------------------------------------------------------\u001b[0m",
      "\u001b[1;31mUFuncTypeError\u001b[0m                            Traceback (most recent call last)",
      "\u001b[1;32m~\\AppData\\Local\\Temp\\ipykernel_18720\\1238322981.py\u001b[0m in \u001b[0;36m<module>\u001b[1;34m\u001b[0m\n\u001b[1;32m----> 1\u001b[1;33m \u001b[0mnp\u001b[0m\u001b[1;33m.\u001b[0m\u001b[0marray\u001b[0m\u001b[1;33m(\u001b[0m\u001b[1;33m[\u001b[0m\u001b[1;34m\"str\"\u001b[0m\u001b[1;33m,\u001b[0m \u001b[1;36m1\u001b[0m\u001b[1;33m]\u001b[0m\u001b[1;33m)\u001b[0m \u001b[1;33m*\u001b[0m \u001b[1;36m2\u001b[0m\u001b[1;33m\u001b[0m\u001b[1;33m\u001b[0m\u001b[0m\n\u001b[0m",
      "\u001b[1;31mUFuncTypeError\u001b[0m: ufunc 'multiply' did not contain a loop with signature matching types (dtype('<U11'), dtype('int32')) -> None"
     ]
    }
   ],
   "source": [
    "np.array([\"str\", 1]) * 2"
   ]
  },
  {
   "cell_type": "markdown",
   "id": "85e694b3-0148-46d4-a43d-c4a8b3096911",
   "metadata": {},
   "source": [
    "**Создание массивов**"
   ]
  },
  {
   "cell_type": "code",
   "execution_count": 107,
   "id": "841f618e-a5d8-4743-9cfd-50e1fcddab69",
   "metadata": {},
   "outputs": [
    {
     "data": {
      "text/plain": [
       "array([1., 1., 1., 1., 1., 1., 1., 1., 1., 1.])"
      ]
     },
     "execution_count": 107,
     "metadata": {},
     "output_type": "execute_result"
    }
   ],
   "source": [
    "np.ones(10)"
   ]
  },
  {
   "cell_type": "code",
   "execution_count": 108,
   "id": "39e34974-7ed1-436e-9c3b-8b93536b6788",
   "metadata": {},
   "outputs": [
    {
     "data": {
      "text/plain": [
       "array([0., 0., 0., 0., 0., 0., 0., 0., 0., 0.])"
      ]
     },
     "execution_count": 108,
     "metadata": {},
     "output_type": "execute_result"
    }
   ],
   "source": [
    "np.zeros(10)"
   ]
  },
  {
   "cell_type": "code",
   "execution_count": 109,
   "id": "6c84207d-1079-4f7c-b254-1848c9153271",
   "metadata": {},
   "outputs": [
    {
     "data": {
      "text/plain": [
       "array([0, 1, 2, 3, 4, 5, 6, 7, 8, 9])"
      ]
     },
     "execution_count": 109,
     "metadata": {},
     "output_type": "execute_result"
    }
   ],
   "source": [
    "np.arange(10)"
   ]
  },
  {
   "cell_type": "markdown",
   "id": "5a1f6e04-3004-4414-a9d7-070f10e75994",
   "metadata": {},
   "source": [
    "**Задание 1**\n",
    "+ Создать единичную матрицу 4x4;\n",
    "+ Создать матрицу 4x4, заполненную 5."
   ]
  },
  {
   "cell_type": "code",
   "execution_count": 110,
   "id": "088eb007",
   "metadata": {},
   "outputs": [
    {
     "data": {
      "text/plain": [
       "array([[1., 0., 0., 0.],\n",
       "       [0., 1., 0., 0.],\n",
       "       [0., 0., 1., 0.],\n",
       "       [0., 0., 0., 1.]])"
      ]
     },
     "execution_count": 110,
     "metadata": {},
     "output_type": "execute_result"
    }
   ],
   "source": [
    "np.eye(4) \n",
    "\n",
    "#или np.identity(4)"
   ]
  },
  {
   "cell_type": "code",
   "execution_count": 111,
   "id": "2da70220",
   "metadata": {},
   "outputs": [
    {
     "data": {
      "text/plain": [
       "array([[5, 5, 5, 5],\n",
       "       [5, 5, 5, 5],\n",
       "       [5, 5, 5, 5],\n",
       "       [5, 5, 5, 5]])"
      ]
     },
     "execution_count": 111,
     "metadata": {},
     "output_type": "execute_result"
    }
   ],
   "source": [
    "np.full((4, 4), 5)"
   ]
  },
  {
   "cell_type": "markdown",
   "id": "782c09b0-ec98-4ac5-accf-ffe8f189e8d6",
   "metadata": {},
   "source": [
    "**Возведение элементов матрицы в квадрат и возведение матрицы в квадрат**"
   ]
  },
  {
   "cell_type": "code",
   "execution_count": 112,
   "id": "417746d1-2ee8-4986-aea6-8b85b072492e",
   "metadata": {},
   "outputs": [],
   "source": [
    "m = np.array([[1, 2, 3], [4, 5, 6], [1, 2, 3]])"
   ]
  },
  {
   "cell_type": "code",
   "execution_count": 113,
   "id": "a3c575e5-c2cb-416c-8f43-02f480c82269",
   "metadata": {},
   "outputs": [
    {
     "data": {
      "text/plain": [
       "array([[ 1,  4,  9],\n",
       "       [16, 25, 36],\n",
       "       [ 1,  4,  9]], dtype=int32)"
      ]
     },
     "execution_count": 113,
     "metadata": {},
     "output_type": "execute_result"
    }
   ],
   "source": [
    "m ** 2"
   ]
  },
  {
   "cell_type": "code",
   "execution_count": 114,
   "id": "1ab08bf0-84e7-4050-84f2-a61b74a5a14d",
   "metadata": {},
   "outputs": [
    {
     "data": {
      "text/plain": [
       "array([[12, 18, 24],\n",
       "       [30, 45, 60],\n",
       "       [12, 18, 24]])"
      ]
     },
     "execution_count": 114,
     "metadata": {},
     "output_type": "execute_result"
    }
   ],
   "source": [
    "np.dot(m, m)"
   ]
  },
  {
   "cell_type": "code",
   "execution_count": 115,
   "id": "e64f1fda-0335-4944-91ef-626fffca3222",
   "metadata": {},
   "outputs": [
    {
     "data": {
      "text/plain": [
       "array([[12, 18, 24],\n",
       "       [30, 45, 60],\n",
       "       [12, 18, 24]])"
      ]
     },
     "execution_count": 115,
     "metadata": {},
     "output_type": "execute_result"
    }
   ],
   "source": [
    "m @ m"
   ]
  },
  {
   "cell_type": "markdown",
   "id": "72f6fea7-3859-49b3-98f8-a13eb4fc978d",
   "metadata": {},
   "source": [
    "## Индексирование"
   ]
  },
  {
   "cell_type": "code",
   "execution_count": 116,
   "id": "fb7082e0-f14e-4b29-a6d9-833ff0482bae",
   "metadata": {},
   "outputs": [
    {
     "data": {
      "text/plain": [
       "array([1, 2, 3])"
      ]
     },
     "execution_count": 116,
     "metadata": {},
     "output_type": "execute_result"
    }
   ],
   "source": [
    "m[0]"
   ]
  },
  {
   "cell_type": "code",
   "execution_count": 117,
   "id": "6898eaf8-ee76-47dd-b837-4acf2564a848",
   "metadata": {},
   "outputs": [
    {
     "data": {
      "text/plain": [
       "1"
      ]
     },
     "execution_count": 117,
     "metadata": {},
     "output_type": "execute_result"
    }
   ],
   "source": [
    "m[0, 0]"
   ]
  },
  {
   "cell_type": "code",
   "execution_count": 118,
   "id": "1f261aa8-773c-496c-8c04-ef20c9794df2",
   "metadata": {},
   "outputs": [
    {
     "data": {
      "text/plain": [
       "array([2, 3])"
      ]
     },
     "execution_count": 118,
     "metadata": {},
     "output_type": "execute_result"
    }
   ],
   "source": [
    "m[0][1:]"
   ]
  },
  {
   "cell_type": "markdown",
   "id": "7b80c57a-e367-47d5-b300-03e8c1284152",
   "metadata": {},
   "source": [
    "**Булево индексирование**"
   ]
  },
  {
   "cell_type": "code",
   "execution_count": 119,
   "id": "6593f80a-cdb0-407c-a9cf-07c781536319",
   "metadata": {},
   "outputs": [
    {
     "data": {
      "text/plain": [
       "array([[ True, False,  True],\n",
       "       [False,  True, False],\n",
       "       [ True, False,  True]])"
      ]
     },
     "execution_count": 119,
     "metadata": {},
     "output_type": "execute_result"
    }
   ],
   "source": [
    "m%2 == 1"
   ]
  },
  {
   "cell_type": "code",
   "execution_count": 120,
   "id": "fb799fa5-a2f3-4236-bc61-ef179ca1d326",
   "metadata": {},
   "outputs": [
    {
     "data": {
      "text/plain": [
       "array([1, 3, 5, 1, 3])"
      ]
     },
     "execution_count": 120,
     "metadata": {},
     "output_type": "execute_result"
    }
   ],
   "source": [
    "m[m%2 == 1]"
   ]
  },
  {
   "cell_type": "code",
   "execution_count": 121,
   "id": "9670aca8-a231-4285-b115-cbd2002c189c",
   "metadata": {},
   "outputs": [
    {
     "data": {
      "text/plain": [
       "array([2, 4, 6, 2])"
      ]
     },
     "execution_count": 121,
     "metadata": {},
     "output_type": "execute_result"
    }
   ],
   "source": [
    "m[~m%2 == 1]"
   ]
  },
  {
   "cell_type": "code",
   "execution_count": 122,
   "id": "9689accd-fd05-4c73-b306-61eb9417c8a1",
   "metadata": {},
   "outputs": [
    {
     "data": {
      "text/plain": [
       "array([[  1, 100,   3],\n",
       "       [100,   5, 100],\n",
       "       [  1, 100,   3]])"
      ]
     },
     "execution_count": 122,
     "metadata": {},
     "output_type": "execute_result"
    }
   ],
   "source": [
    "m[~m%2 == 1] = 100\n",
    "m"
   ]
  },
  {
   "cell_type": "code",
   "execution_count": 123,
   "id": "7fe2209f-ea99-4df8-913e-17a0af069c4d",
   "metadata": {},
   "outputs": [
    {
     "data": {
      "text/plain": [
       "array([[  1, 100,   1],\n",
       "       [100,   5, 100],\n",
       "       [  3, 100,   3]])"
      ]
     },
     "execution_count": 123,
     "metadata": {},
     "output_type": "execute_result"
    }
   ],
   "source": [
    "m.T"
   ]
  },
  {
   "cell_type": "code",
   "execution_count": 124,
   "id": "df66ef8d-f920-4260-95d0-f800586f6e63",
   "metadata": {},
   "outputs": [
    {
     "data": {
      "text/plain": [
       "array([ 0,  1,  2,  3,  4,  5,  6,  7,  8,  9, 10, 11, 12, 13, 14])"
      ]
     },
     "execution_count": 124,
     "metadata": {},
     "output_type": "execute_result"
    }
   ],
   "source": [
    "np.arange(15)"
   ]
  },
  {
   "cell_type": "code",
   "execution_count": 125,
   "id": "f829abea-abf9-4906-9af4-350ce1f5971f",
   "metadata": {},
   "outputs": [
    {
     "data": {
      "text/plain": [
       "array([[ 0,  1,  2,  3,  4],\n",
       "       [ 5,  6,  7,  8,  9],\n",
       "       [10, 11, 12, 13, 14]])"
      ]
     },
     "execution_count": 125,
     "metadata": {},
     "output_type": "execute_result"
    }
   ],
   "source": [
    "arr = np.arange(15).reshape((3, 5))\n",
    "arr"
   ]
  },
  {
   "cell_type": "code",
   "execution_count": 126,
   "id": "7f4e28ec-cdad-4e3b-a5f0-b475d55777a2",
   "metadata": {},
   "outputs": [
    {
     "data": {
      "text/plain": [
       "array([[ 0,  5, 10],\n",
       "       [ 1,  6, 11],\n",
       "       [ 2,  7, 12],\n",
       "       [ 3,  8, 13],\n",
       "       [ 4,  9, 14]])"
      ]
     },
     "execution_count": 126,
     "metadata": {},
     "output_type": "execute_result"
    }
   ],
   "source": [
    "arr.swapaxes(0, 1)"
   ]
  },
  {
   "cell_type": "code",
   "execution_count": 127,
   "id": "063f1725-e4cd-466f-80c1-22a2be7f8cc2",
   "metadata": {},
   "outputs": [
    {
     "data": {
      "text/plain": [
       "array([[ 0,  5, 10],\n",
       "       [ 1,  6, 11],\n",
       "       [ 2,  7, 12],\n",
       "       [ 3,  8, 13],\n",
       "       [ 4,  9, 14]])"
      ]
     },
     "execution_count": 127,
     "metadata": {},
     "output_type": "execute_result"
    }
   ],
   "source": [
    "arr.T"
   ]
  },
  {
   "cell_type": "markdown",
   "id": "66484a6a-3a65-464b-80f3-0fe8662b6e82",
   "metadata": {},
   "source": [
    "**Задание 2**\\\n",
    "Отобрать те строки data, где на соответствующих позициях в names имя Леша или Петя."
   ]
  },
  {
   "cell_type": "code",
   "execution_count": 128,
   "id": "94834e08-7e97-43e5-b80c-acb9725a78f8",
   "metadata": {},
   "outputs": [],
   "source": [
    "names = np.array([\"Настя\", \"Петя\", \"Вася\", \"Юра\", \"Паша\", \"Леша\", \"Леша\"])\n",
    "data = np.array([[4, 8], [1, 5], [-3, 9], [99, 0], [13, 22], [12, 49], [31, 4]])"
   ]
  },
  {
   "cell_type": "code",
   "execution_count": 129,
   "id": "59b6be0f",
   "metadata": {},
   "outputs": [
    {
     "data": {
      "text/plain": [
       "array([[ 1,  5],\n",
       "       [12, 49],\n",
       "       [31,  4]])"
      ]
     },
     "execution_count": 129,
     "metadata": {},
     "output_type": "execute_result"
    }
   ],
   "source": [
    "#создание маски\n",
    "a = (names == 'Леша') | (names == 'Петя')\n",
    "\n",
    "#применение маски\n",
    "data[a]"
   ]
  },
  {
   "cell_type": "code",
   "execution_count": 130,
   "id": "b75a98e7-840a-4eaa-b501-063be6569f6c",
   "metadata": {},
   "outputs": [
    {
     "data": {
      "text/plain": [
       "array([[ 4,  8],\n",
       "       [ 1,  5],\n",
       "       [-3,  9],\n",
       "       [99,  0],\n",
       "       [13, 22],\n",
       "       [12, 49],\n",
       "       [31,  4]])"
      ]
     },
     "execution_count": 130,
     "metadata": {},
     "output_type": "execute_result"
    }
   ],
   "source": [
    "data"
   ]
  },
  {
   "cell_type": "markdown",
   "id": "a40fdf77-84ff-40ca-92fb-ffa743fea620",
   "metadata": {},
   "source": [
    "## Быстрые поэлементные операции над массивами"
   ]
  },
  {
   "cell_type": "code",
   "execution_count": 131,
   "id": "d98259a6-cb3a-4802-b12c-c1fbb145f5e7",
   "metadata": {},
   "outputs": [],
   "source": [
    "arr = np.arange(10)"
   ]
  },
  {
   "cell_type": "code",
   "execution_count": 132,
   "id": "414f543e-349f-4774-9cbf-60540c740fc0",
   "metadata": {},
   "outputs": [
    {
     "data": {
      "text/plain": [
       "array([0.        , 1.        , 1.41421356, 1.73205081, 2.        ,\n",
       "       2.23606798, 2.44948974, 2.64575131, 2.82842712, 3.        ])"
      ]
     },
     "execution_count": 132,
     "metadata": {},
     "output_type": "execute_result"
    }
   ],
   "source": [
    "np.sqrt(arr)"
   ]
  },
  {
   "cell_type": "code",
   "execution_count": 133,
   "id": "50858433-26cf-4339-bb86-920b3396f7c9",
   "metadata": {},
   "outputs": [
    {
     "data": {
      "text/plain": [
       "array([1.00000000e+00, 2.71828183e+00, 7.38905610e+00, 2.00855369e+01,\n",
       "       5.45981500e+01, 1.48413159e+02, 4.03428793e+02, 1.09663316e+03,\n",
       "       2.98095799e+03, 8.10308393e+03])"
      ]
     },
     "execution_count": 133,
     "metadata": {},
     "output_type": "execute_result"
    }
   ],
   "source": [
    "np.exp(arr)"
   ]
  },
  {
   "cell_type": "code",
   "execution_count": 134,
   "id": "3008da7c-7a5d-4e0b-b139-3e58173f72a5",
   "metadata": {},
   "outputs": [
    {
     "data": {
      "text/plain": [
       "array([3.33333333e-01, 1.00000000e+00, 2.46301870e+00, 6.69517897e+00,\n",
       "       1.81993833e+01, 4.94710530e+01, 1.34476264e+02, 3.65544386e+02,\n",
       "       9.93652662e+02, 2.70102798e+03])"
      ]
     },
     "execution_count": 134,
     "metadata": {},
     "output_type": "execute_result"
    }
   ],
   "source": [
    "np.maximum(np.sqrt(arr), np.exp(arr)/3)"
   ]
  },
  {
   "cell_type": "code",
   "execution_count": 135,
   "id": "0bda8b29-c1c5-46a3-bbf1-0118e25ae34b",
   "metadata": {},
   "outputs": [
    {
     "data": {
      "text/plain": [
       "array([0., 1., 1., 1., 2., 2., 2., 2., 2., 3.])"
      ]
     },
     "execution_count": 135,
     "metadata": {},
     "output_type": "execute_result"
    }
   ],
   "source": [
    "np.floor(np.sqrt(arr))"
   ]
  },
  {
   "cell_type": "code",
   "execution_count": 136,
   "id": "219be6ae-e40c-4a2c-b74b-ca02ecebf58a",
   "metadata": {},
   "outputs": [
    {
     "data": {
      "text/plain": [
       "array([0., 1., 2., 2., 2., 3., 3., 3., 3., 3.])"
      ]
     },
     "execution_count": 136,
     "metadata": {},
     "output_type": "execute_result"
    }
   ],
   "source": [
    "np.ceil(np.sqrt(arr))"
   ]
  },
  {
   "cell_type": "code",
   "execution_count": 137,
   "id": "8d6bf0d4-d712-42fd-ac76-4eb6f69b2382",
   "metadata": {},
   "outputs": [
    {
     "data": {
      "text/plain": [
       "array([0., 1., 1., 2., 2., 2., 2., 3., 3., 3.])"
      ]
     },
     "execution_count": 137,
     "metadata": {},
     "output_type": "execute_result"
    }
   ],
   "source": [
    "np.round(np.sqrt(arr))"
   ]
  },
  {
   "cell_type": "markdown",
   "id": "d7cc522e-b4f0-4711-b899-88a105c4fac1",
   "metadata": {},
   "source": [
    "## Программирование на основе массивов"
   ]
  },
  {
   "cell_type": "code",
   "execution_count": 138,
   "id": "123b06bd-1c51-4030-ac23-842c9941f15c",
   "metadata": {},
   "outputs": [
    {
     "data": {
      "text/plain": [
       "array([[-5.  , -5.  , -5.  , ..., -5.  , -5.  , -5.  ],\n",
       "       [-4.99, -4.99, -4.99, ..., -4.99, -4.99, -4.99],\n",
       "       [-4.98, -4.98, -4.98, ..., -4.98, -4.98, -4.98],\n",
       "       ...,\n",
       "       [ 4.97,  4.97,  4.97, ...,  4.97,  4.97,  4.97],\n",
       "       [ 4.98,  4.98,  4.98, ...,  4.98,  4.98,  4.98],\n",
       "       [ 4.99,  4.99,  4.99, ...,  4.99,  4.99,  4.99]])"
      ]
     },
     "execution_count": 138,
     "metadata": {},
     "output_type": "execute_result"
    }
   ],
   "source": [
    "points = np.arange(-5, 5, 0.01) # 100 равноотстоящих точек\n",
    "xs, ys = np.meshgrid(points, points)\n",
    "ys"
   ]
  },
  {
   "cell_type": "code",
   "execution_count": 139,
   "id": "b96c75d6-f7ae-4079-96a1-1b67cfb87f34",
   "metadata": {},
   "outputs": [
    {
     "data": {
      "text/plain": [
       "array([[-5.  , -4.99, -4.98, ...,  4.97,  4.98,  4.99],\n",
       "       [-5.  , -4.99, -4.98, ...,  4.97,  4.98,  4.99],\n",
       "       [-5.  , -4.99, -4.98, ...,  4.97,  4.98,  4.99],\n",
       "       ...,\n",
       "       [-5.  , -4.99, -4.98, ...,  4.97,  4.98,  4.99],\n",
       "       [-5.  , -4.99, -4.98, ...,  4.97,  4.98,  4.99],\n",
       "       [-5.  , -4.99, -4.98, ...,  4.97,  4.98,  4.99]])"
      ]
     },
     "execution_count": 139,
     "metadata": {},
     "output_type": "execute_result"
    }
   ],
   "source": [
    "xs"
   ]
  },
  {
   "cell_type": "code",
   "execution_count": 140,
   "id": "63a16c78-f877-4e7a-a626-4b8284bce9ae",
   "metadata": {},
   "outputs": [],
   "source": [
    "z = np.sqrt(xs ** 2 + ys ** 2)"
   ]
  },
  {
   "cell_type": "code",
   "execution_count": 141,
   "id": "ce99dfab-599e-4433-a517-818eb8d65ebd",
   "metadata": {},
   "outputs": [],
   "source": [
    "xarr = np.array([1.1, 1.2, 1.3, 1.4, 1.5])\n",
    "yarr = np.array([2.1, 2.2, 2.3, 2.4, 2.5])\n",
    "cond = np.array([True, False, True, True, False])"
   ]
  },
  {
   "cell_type": "code",
   "execution_count": 142,
   "id": "843eb6e6-12f9-4f8d-bb87-d23b716e136b",
   "metadata": {},
   "outputs": [
    {
     "data": {
      "text/plain": [
       "[1.1, 2.2, 1.3, 1.4, 2.5]"
      ]
     },
     "execution_count": 142,
     "metadata": {},
     "output_type": "execute_result"
    }
   ],
   "source": [
    "result = [(x if c else y) for x, y, c in zip(xarr, yarr, cond)]\n",
    "result"
   ]
  },
  {
   "cell_type": "code",
   "execution_count": 143,
   "id": "32025a8f-3366-4f9c-888c-62c8a2115c8e",
   "metadata": {},
   "outputs": [],
   "source": [
    "result = np.where(cond, xarr, yarr)"
   ]
  },
  {
   "cell_type": "code",
   "execution_count": 144,
   "id": "499d1391-6093-4601-ac54-f8f3ef6af3a9",
   "metadata": {},
   "outputs": [
    {
     "data": {
      "text/plain": [
       "array([1.1, 1.2, 1.3, 2. , 2. ])"
      ]
     },
     "execution_count": 144,
     "metadata": {},
     "output_type": "execute_result"
    }
   ],
   "source": [
    "np.where(xarr > 1.3, 2, xarr)"
   ]
  },
  {
   "cell_type": "markdown",
   "id": "b8bab28b-6939-4269-84d0-f8661bf2f526",
   "metadata": {},
   "source": [
    "**Задача 3**\\\n",
    "Сгенерировать массив из случайных положительных чисел произвольной длины. Вывести элементы, которые больше среднего арифметического."
   ]
  },
  {
   "cell_type": "code",
   "execution_count": 145,
   "id": "94db720f",
   "metadata": {},
   "outputs": [
    {
     "data": {
      "text/plain": [
       "array([23.85359062, 40.25964519, 44.9799927 , 25.3561443 , 44.01123962])"
      ]
     },
     "execution_count": 145,
     "metadata": {},
     "output_type": "execute_result"
    }
   ],
   "source": [
    "array = np.random.rand(10) * 50 #array в диапазоне от 0 до 50\n",
    "\n",
    "mean = np.mean(array)\n",
    "\n",
    "# Выводим элементы массива, которые больше среднего арифметического\n",
    "above_average = array[array > mean]\n",
    "    \n",
    "above_average"
   ]
  },
  {
   "cell_type": "markdown",
   "id": "952e4a55-5562-4f42-8713-b2c6ac7526f8",
   "metadata": {},
   "source": [
    "**Задача 4**\\\n",
    "Сгенерировать массив из 20 случайных элементов, элементы которого лежат в интервале [0, 10].\n",
    "+ Определить количество элементов, отличающихся от минимального на 5.\n",
    "+ Найти среднее арифметическое всех четных элементов массива, стоящих на нечетных местах."
   ]
  },
  {
   "cell_type": "code",
   "execution_count": 146,
   "id": "c5397818",
   "metadata": {},
   "outputs": [
    {
     "name": "stdout",
     "output_type": "stream",
     "text": [
      "Количество элементов, отличающихся от минимального на 5: 2\n",
      "Среднее арифметическое всех четных элементов массива, стоящих на нечетных местах: 5.333333333333333\n"
     ]
    }
   ],
   "source": [
    "array = np.random.randint(0, 11, 20)\n",
    "\n",
    "# Определение количества элементов, отличающихся от минимального на 5\n",
    "minimum = np.min(array)\n",
    "amount_dif_5 = np.sum(np.abs(array - minimum) == 5)\n",
    "print(\"Количество элементов, отличающихся от минимального на 5:\", amount_dif_5)\n",
    "\n",
    "# четные числа на нечетных местах\n",
    "even_nums = array[1::2][array[1::2] % 2 == 0]\n",
    "\n",
    "if len(even_nums) > 0:\n",
    "    mean_even_nums = np.mean(even_nums)\n",
    "else:\n",
    "    mean_even_nums = np.nan\n",
    "\n",
    "print(\"Среднее арифметическое всех четных элементов массива, стоящих на нечетных местах:\", mean_even_nums)"
   ]
  },
  {
   "cell_type": "code",
   "execution_count": 147,
   "id": "73306c4d",
   "metadata": {},
   "outputs": [
    {
     "data": {
      "text/plain": [
       "array([ 3,  1,  0,  1, 10,  8,  7, 10,  8,  9,  6,  9,  5,  2,  5,  2,  3,\n",
       "        2,  1,  8])"
      ]
     },
     "execution_count": 147,
     "metadata": {},
     "output_type": "execute_result"
    }
   ],
   "source": [
    "# сам массив ради интереса\n",
    "array"
   ]
  },
  {
   "cell_type": "markdown",
   "id": "06b8cde0-991c-4230-abe7-8b969c38a504",
   "metadata": {},
   "source": [
    "**Задача 5**\\\n",
    "Сгенерировать матрицу A размером 5 на 5, элементы которой лежат в интервале [1, 10].\n",
    "+ Возвести в квадрат максимальный элемент матрицы.\n",
    "+ Все четные числа заменить на 0."
   ]
  },
  {
   "cell_type": "code",
   "execution_count": 148,
   "id": "806f0025",
   "metadata": {},
   "outputs": [
    {
     "data": {
      "text/plain": [
       "array([[ 8,  8,  4,  2,  7],\n",
       "       [ 2,  1,  6,  8,  5],\n",
       "       [10,  5,  6,  2,  1],\n",
       "       [ 5,  5,  6,  7, 10],\n",
       "       [ 8,  6,  4,  6,  2]])"
      ]
     },
     "execution_count": 148,
     "metadata": {},
     "output_type": "execute_result"
    }
   ],
   "source": [
    "A = np.random.randint(1, 11, (5, 5))\n",
    "A"
   ]
  },
  {
   "cell_type": "code",
   "execution_count": 149,
   "id": "d36404b7",
   "metadata": {},
   "outputs": [
    {
     "data": {
      "text/plain": [
       "100"
      ]
     },
     "execution_count": 149,
     "metadata": {},
     "output_type": "execute_result"
    }
   ],
   "source": [
    "max_element = np.max(A)\n",
    "max_element_square = max_element ** 2\n",
    "\n",
    "max_element_square"
   ]
  },
  {
   "cell_type": "code",
   "execution_count": 150,
   "id": "6f0040d1",
   "metadata": {},
   "outputs": [
    {
     "data": {
      "text/plain": [
       "array([[0, 0, 0, 0, 7],\n",
       "       [0, 1, 0, 0, 5],\n",
       "       [0, 5, 0, 0, 1],\n",
       "       [5, 5, 0, 7, 0],\n",
       "       [0, 0, 0, 0, 0]])"
      ]
     },
     "execution_count": 150,
     "metadata": {},
     "output_type": "execute_result"
    }
   ],
   "source": [
    "# Замена всех четных чисел на 0\n",
    "A[A % 2 == 0] = 0\n",
    "A"
   ]
  },
  {
   "cell_type": "markdown",
   "id": "e2dcb4bb-9ed1-4f74-be4f-de65556bbf38",
   "metadata": {},
   "source": [
    "**Задача 6**\\\n",
    "Сгенерировать матрицу B размером 5 на 5, элементы которой лежат в интервале [-5, 5]. Отрицательные элементы матрицы заменить на число отрицательных элементов в строке, в которой они находятся."
   ]
  },
  {
   "cell_type": "code",
   "execution_count": 151,
   "id": "c202c1d8",
   "metadata": {},
   "outputs": [
    {
     "data": {
      "text/plain": [
       "array([[ 0, -5, -1,  4, -5],\n",
       "       [-4,  2, -5, -1, -5],\n",
       "       [-5, -2,  0,  3,  3],\n",
       "       [ 3, -4, -2,  5,  0],\n",
       "       [-3,  3, -3,  5,  4]])"
      ]
     },
     "execution_count": 151,
     "metadata": {},
     "output_type": "execute_result"
    }
   ],
   "source": [
    "# матрица B размером 5 на 5, элементы которой лежат в интервале [-5, 5]\n",
    "B = np.random.randint(-5, 6, (5, 5))\n",
    "B"
   ]
  },
  {
   "cell_type": "code",
   "execution_count": 152,
   "id": "dc382702",
   "metadata": {},
   "outputs": [
    {
     "data": {
      "text/plain": [
       "array([[0, 3, 3, 4, 3],\n",
       "       [4, 2, 4, 4, 4],\n",
       "       [2, 2, 0, 3, 3],\n",
       "       [3, 2, 2, 5, 0],\n",
       "       [2, 3, 2, 5, 4]])"
      ]
     },
     "execution_count": 152,
     "metadata": {},
     "output_type": "execute_result"
    }
   ],
   "source": [
    "for i in range(B.shape[0]):\n",
    "    row = B[i]\n",
    "    negative_count = np.sum(row < 0)\n",
    "    row[row < 0] = negative_count\n",
    "\n",
    "B"
   ]
  },
  {
   "cell_type": "markdown",
   "id": "fab10d3e-9e74-44aa-bb0f-d203bc75789e",
   "metadata": {},
   "source": [
    "# Вспоминаем pandas не сильно"
   ]
  },
  {
   "cell_type": "markdown",
   "id": "bb8bc5c9-d95c-45a6-8d59-354f948f78e4",
   "metadata": {},
   "source": [
    "Какие отличия между исследовательскими университетами и школами искусств?\n",
    "Используя данные из файла colleges, выдвините предположения о возможных различиях между двумя типами институтов.\n",
    "Для это проведите описательный анализ исходных данных.  Выдвините несколько гипотез.\n",
    "Например, \"В университеты поступить сложнее (процент принятых меньше)\"\n",
    "\n",
    "Формат файла\n",
    "+ School -  название школы\n",
    "+ School_Type - тип школы (школа искусств  'LibArts', исследовательский университет 'Univ')\n",
    "+ SAT - медиана объединенных значений Math и Verbal SAT  студентов\n",
    "+ Acceptance: - % принятых абитуриентов\n",
    "+ $/Student  -  Деньги, расходуемые на одного студента в среднем\n",
    "+ Top 10% -  % студентов в топ 10% выпускных классов\n",
    "+ %PhD -  %  факультетов, имеющих PhD\n",
    "+ Grad%: % студентов, которые успешно завершили обучение"
   ]
  },
  {
   "cell_type": "code",
   "execution_count": 153,
   "id": "4aa369f4-6c1e-430d-9fff-ada1a10508b8",
   "metadata": {},
   "outputs": [],
   "source": [
    "#df = pd.read_csv('data/colleges.txt', delimiter='\\t')\n",
    "df = pd.read_csv('colleges.txt', delimiter='\\t')"
   ]
  },
  {
   "cell_type": "code",
   "execution_count": 154,
   "id": "08d5d60f-6d5b-4767-b858-6eb3dfd1ad70",
   "metadata": {},
   "outputs": [
    {
     "data": {
      "text/html": [
       "<div>\n",
       "<style scoped>\n",
       "    .dataframe tbody tr th:only-of-type {\n",
       "        vertical-align: middle;\n",
       "    }\n",
       "\n",
       "    .dataframe tbody tr th {\n",
       "        vertical-align: top;\n",
       "    }\n",
       "\n",
       "    .dataframe thead th {\n",
       "        text-align: right;\n",
       "    }\n",
       "</style>\n",
       "<table border=\"1\" class=\"dataframe\">\n",
       "  <thead>\n",
       "    <tr style=\"text-align: right;\">\n",
       "      <th></th>\n",
       "      <th>School</th>\n",
       "      <th>School_Type</th>\n",
       "      <th>SAT</th>\n",
       "      <th>Acceptance</th>\n",
       "      <th>$/Student</th>\n",
       "      <th>Top 10%</th>\n",
       "      <th>%PhD</th>\n",
       "      <th>Grad%</th>\n",
       "    </tr>\n",
       "  </thead>\n",
       "  <tbody>\n",
       "    <tr>\n",
       "      <th>0</th>\n",
       "      <td>Amherst</td>\n",
       "      <td>Lib Arts</td>\n",
       "      <td>1315</td>\n",
       "      <td>22</td>\n",
       "      <td>26636</td>\n",
       "      <td>85</td>\n",
       "      <td>81</td>\n",
       "      <td>93</td>\n",
       "    </tr>\n",
       "    <tr>\n",
       "      <th>1</th>\n",
       "      <td>Swarthmore</td>\n",
       "      <td>Lib Arts</td>\n",
       "      <td>1310</td>\n",
       "      <td>24</td>\n",
       "      <td>27487</td>\n",
       "      <td>78</td>\n",
       "      <td>93</td>\n",
       "      <td>88</td>\n",
       "    </tr>\n",
       "    <tr>\n",
       "      <th>2</th>\n",
       "      <td>Williams</td>\n",
       "      <td>Lib Arts</td>\n",
       "      <td>1336</td>\n",
       "      <td>28</td>\n",
       "      <td>23772</td>\n",
       "      <td>86</td>\n",
       "      <td>90</td>\n",
       "      <td>93</td>\n",
       "    </tr>\n",
       "    <tr>\n",
       "      <th>3</th>\n",
       "      <td>Bowdoin</td>\n",
       "      <td>Lib Arts</td>\n",
       "      <td>1300</td>\n",
       "      <td>24</td>\n",
       "      <td>25703</td>\n",
       "      <td>78</td>\n",
       "      <td>95</td>\n",
       "      <td>90</td>\n",
       "    </tr>\n",
       "    <tr>\n",
       "      <th>4</th>\n",
       "      <td>Wellesley</td>\n",
       "      <td>Lib Arts</td>\n",
       "      <td>1250</td>\n",
       "      <td>49</td>\n",
       "      <td>27879</td>\n",
       "      <td>76</td>\n",
       "      <td>91</td>\n",
       "      <td>86</td>\n",
       "    </tr>\n",
       "  </tbody>\n",
       "</table>\n",
       "</div>"
      ],
      "text/plain": [
       "       School School_Type   SAT  Acceptance  $/Student  Top 10%  %PhD  Grad%\n",
       "0     Amherst    Lib Arts  1315          22      26636       85    81     93\n",
       "1  Swarthmore    Lib Arts  1310          24      27487       78    93     88\n",
       "2    Williams    Lib Arts  1336          28      23772       86    90     93\n",
       "3     Bowdoin    Lib Arts  1300          24      25703       78    95     90\n",
       "4   Wellesley    Lib Arts  1250          49      27879       76    91     86"
      ]
     },
     "execution_count": 154,
     "metadata": {},
     "output_type": "execute_result"
    }
   ],
   "source": [
    "df.head()"
   ]
  },
  {
   "cell_type": "markdown",
   "id": "7642825c-5811-4136-ad20-11234d61fd37",
   "metadata": {},
   "source": [
    "В сведения о датафрейме входит общая информация о нём вроде заголовка, количества значений, типов данных столбцов."
   ]
  },
  {
   "cell_type": "code",
   "execution_count": 155,
   "id": "346d0b4b-348f-48d3-8d7d-c605378357ea",
   "metadata": {},
   "outputs": [
    {
     "name": "stdout",
     "output_type": "stream",
     "text": [
      "<class 'pandas.core.frame.DataFrame'>\n",
      "RangeIndex: 50 entries, 0 to 49\n",
      "Data columns (total 8 columns):\n",
      " #   Column       Non-Null Count  Dtype \n",
      "---  ------       --------------  ----- \n",
      " 0   School       50 non-null     object\n",
      " 1   School_Type  50 non-null     object\n",
      " 2   SAT          50 non-null     int64 \n",
      " 3   Acceptance   50 non-null     int64 \n",
      " 4   $/Student    50 non-null     int64 \n",
      " 5   Top 10%      50 non-null     int64 \n",
      " 6   %PhD         50 non-null     int64 \n",
      " 7   Grad%        50 non-null     int64 \n",
      "dtypes: int64(6), object(2)\n",
      "memory usage: 3.2+ KB\n"
     ]
    }
   ],
   "source": [
    "df.info()"
   ]
  },
  {
   "cell_type": "code",
   "execution_count": 156,
   "id": "8e6c14c5",
   "metadata": {},
   "outputs": [],
   "source": [
    "#предобработка заголовков\n",
    "df.columns = [\n",
    "    'school_name', \n",
    "    'school_type', \n",
    "    'sat', \n",
    "    'acceptance_per', \n",
    "    'money_for_student', \n",
    "    'top_10_percent', \n",
    "    'phd_percent', \n",
    "    'grad_per']"
   ]
  },
  {
   "cell_type": "code",
   "execution_count": 157,
   "id": "2a4ac2a7",
   "metadata": {},
   "outputs": [
    {
     "data": {
      "text/html": [
       "<div>\n",
       "<style scoped>\n",
       "    .dataframe tbody tr th:only-of-type {\n",
       "        vertical-align: middle;\n",
       "    }\n",
       "\n",
       "    .dataframe tbody tr th {\n",
       "        vertical-align: top;\n",
       "    }\n",
       "\n",
       "    .dataframe thead th {\n",
       "        text-align: right;\n",
       "    }\n",
       "</style>\n",
       "<table border=\"1\" class=\"dataframe\">\n",
       "  <thead>\n",
       "    <tr style=\"text-align: right;\">\n",
       "      <th></th>\n",
       "      <th>school_name</th>\n",
       "      <th>school_type</th>\n",
       "      <th>sat</th>\n",
       "      <th>acceptance_per</th>\n",
       "      <th>money_for_student</th>\n",
       "      <th>top_10_percent</th>\n",
       "      <th>phd_percent</th>\n",
       "      <th>grad_per</th>\n",
       "    </tr>\n",
       "  </thead>\n",
       "  <tbody>\n",
       "    <tr>\n",
       "      <th>45</th>\n",
       "      <td>U Michican</td>\n",
       "      <td>Univ</td>\n",
       "      <td>1195</td>\n",
       "      <td>60</td>\n",
       "      <td>21853</td>\n",
       "      <td>71</td>\n",
       "      <td>93</td>\n",
       "      <td>77</td>\n",
       "    </tr>\n",
       "    <tr>\n",
       "      <th>46</th>\n",
       "      <td>Carnegie Mellon</td>\n",
       "      <td>Univ</td>\n",
       "      <td>1225</td>\n",
       "      <td>64</td>\n",
       "      <td>33607</td>\n",
       "      <td>52</td>\n",
       "      <td>84</td>\n",
       "      <td>77</td>\n",
       "    </tr>\n",
       "    <tr>\n",
       "      <th>47</th>\n",
       "      <td>Northwestern</td>\n",
       "      <td>Univ</td>\n",
       "      <td>1230</td>\n",
       "      <td>47</td>\n",
       "      <td>28851</td>\n",
       "      <td>77</td>\n",
       "      <td>79</td>\n",
       "      <td>82</td>\n",
       "    </tr>\n",
       "    <tr>\n",
       "      <th>48</th>\n",
       "      <td>Washington U (MO)</td>\n",
       "      <td>Univ</td>\n",
       "      <td>1225</td>\n",
       "      <td>54</td>\n",
       "      <td>39883</td>\n",
       "      <td>71</td>\n",
       "      <td>98</td>\n",
       "      <td>76</td>\n",
       "    </tr>\n",
       "    <tr>\n",
       "      <th>49</th>\n",
       "      <td>U of Rochester</td>\n",
       "      <td>Univ</td>\n",
       "      <td>1155</td>\n",
       "      <td>56</td>\n",
       "      <td>38597</td>\n",
       "      <td>52</td>\n",
       "      <td>96</td>\n",
       "      <td>73</td>\n",
       "    </tr>\n",
       "  </tbody>\n",
       "</table>\n",
       "</div>"
      ],
      "text/plain": [
       "          school_name school_type   sat  acceptance_per  money_for_student  \\\n",
       "45         U Michican        Univ  1195              60              21853   \n",
       "46    Carnegie Mellon        Univ  1225              64              33607   \n",
       "47       Northwestern        Univ  1230              47              28851   \n",
       "48  Washington U (MO)        Univ  1225              54              39883   \n",
       "49     U of Rochester        Univ  1155              56              38597   \n",
       "\n",
       "    top_10_percent  phd_percent  grad_per  \n",
       "45              71           93        77  \n",
       "46              52           84        77  \n",
       "47              77           79        82  \n",
       "48              71           98        76  \n",
       "49              52           96        73  "
      ]
     },
     "execution_count": 157,
     "metadata": {},
     "output_type": "execute_result"
    }
   ],
   "source": [
    "df.tail()"
   ]
  },
  {
   "cell_type": "markdown",
   "id": "dc5d50cd-47ee-4461-9435-a87b12476e13",
   "metadata": {},
   "source": [
    "Вывод статистических сведений о датафрейме:"
   ]
  },
  {
   "cell_type": "code",
   "execution_count": 158,
   "id": "b2e7acef-b4e0-4589-ba61-e65e7740cba1",
   "metadata": {},
   "outputs": [
    {
     "data": {
      "text/html": [
       "<div>\n",
       "<style scoped>\n",
       "    .dataframe tbody tr th:only-of-type {\n",
       "        vertical-align: middle;\n",
       "    }\n",
       "\n",
       "    .dataframe tbody tr th {\n",
       "        vertical-align: top;\n",
       "    }\n",
       "\n",
       "    .dataframe thead th {\n",
       "        text-align: right;\n",
       "    }\n",
       "</style>\n",
       "<table border=\"1\" class=\"dataframe\">\n",
       "  <thead>\n",
       "    <tr style=\"text-align: right;\">\n",
       "      <th></th>\n",
       "      <th>sat</th>\n",
       "      <th>acceptance_per</th>\n",
       "      <th>money_for_student</th>\n",
       "      <th>top_10_percent</th>\n",
       "      <th>phd_percent</th>\n",
       "      <th>grad_per</th>\n",
       "    </tr>\n",
       "  </thead>\n",
       "  <tbody>\n",
       "    <tr>\n",
       "      <th>count</th>\n",
       "      <td>50.000000</td>\n",
       "      <td>50.000000</td>\n",
       "      <td>50.000000</td>\n",
       "      <td>50.000000</td>\n",
       "      <td>50.000000</td>\n",
       "      <td>50.000000</td>\n",
       "    </tr>\n",
       "    <tr>\n",
       "      <th>mean</th>\n",
       "      <td>1263.960000</td>\n",
       "      <td>37.840000</td>\n",
       "      <td>30247.200000</td>\n",
       "      <td>74.440000</td>\n",
       "      <td>90.560000</td>\n",
       "      <td>83.480000</td>\n",
       "    </tr>\n",
       "    <tr>\n",
       "      <th>std</th>\n",
       "      <td>62.329591</td>\n",
       "      <td>13.363612</td>\n",
       "      <td>15266.172682</td>\n",
       "      <td>13.515162</td>\n",
       "      <td>8.258972</td>\n",
       "      <td>7.557237</td>\n",
       "    </tr>\n",
       "    <tr>\n",
       "      <th>min</th>\n",
       "      <td>1109.000000</td>\n",
       "      <td>17.000000</td>\n",
       "      <td>17520.000000</td>\n",
       "      <td>47.000000</td>\n",
       "      <td>58.000000</td>\n",
       "      <td>61.000000</td>\n",
       "    </tr>\n",
       "    <tr>\n",
       "      <th>25%</th>\n",
       "      <td>1225.000000</td>\n",
       "      <td>25.750000</td>\n",
       "      <td>20182.250000</td>\n",
       "      <td>65.000000</td>\n",
       "      <td>86.250000</td>\n",
       "      <td>77.250000</td>\n",
       "    </tr>\n",
       "    <tr>\n",
       "      <th>50%</th>\n",
       "      <td>1264.000000</td>\n",
       "      <td>36.000000</td>\n",
       "      <td>24994.500000</td>\n",
       "      <td>76.500000</td>\n",
       "      <td>93.000000</td>\n",
       "      <td>85.500000</td>\n",
       "    </tr>\n",
       "    <tr>\n",
       "      <th>75%</th>\n",
       "      <td>1304.500000</td>\n",
       "      <td>47.750000</td>\n",
       "      <td>36803.750000</td>\n",
       "      <td>85.000000</td>\n",
       "      <td>97.750000</td>\n",
       "      <td>89.000000</td>\n",
       "    </tr>\n",
       "    <tr>\n",
       "      <th>max</th>\n",
       "      <td>1400.000000</td>\n",
       "      <td>67.000000</td>\n",
       "      <td>102262.000000</td>\n",
       "      <td>98.000000</td>\n",
       "      <td>100.000000</td>\n",
       "      <td>95.000000</td>\n",
       "    </tr>\n",
       "  </tbody>\n",
       "</table>\n",
       "</div>"
      ],
      "text/plain": [
       "               sat  acceptance_per  money_for_student  top_10_percent  \\\n",
       "count    50.000000       50.000000          50.000000       50.000000   \n",
       "mean   1263.960000       37.840000       30247.200000       74.440000   \n",
       "std      62.329591       13.363612       15266.172682       13.515162   \n",
       "min    1109.000000       17.000000       17520.000000       47.000000   \n",
       "25%    1225.000000       25.750000       20182.250000       65.000000   \n",
       "50%    1264.000000       36.000000       24994.500000       76.500000   \n",
       "75%    1304.500000       47.750000       36803.750000       85.000000   \n",
       "max    1400.000000       67.000000      102262.000000       98.000000   \n",
       "\n",
       "       phd_percent   grad_per  \n",
       "count    50.000000  50.000000  \n",
       "mean     90.560000  83.480000  \n",
       "std       8.258972   7.557237  \n",
       "min      58.000000  61.000000  \n",
       "25%      86.250000  77.250000  \n",
       "50%      93.000000  85.500000  \n",
       "75%      97.750000  89.000000  \n",
       "max     100.000000  95.000000  "
      ]
     },
     "execution_count": 158,
     "metadata": {},
     "output_type": "execute_result"
    }
   ],
   "source": [
    "df.describe()"
   ]
  },
  {
   "cell_type": "markdown",
   "id": "f230c49a-85ab-4bf2-8b6a-e3cc15544bbe",
   "metadata": {},
   "source": [
    "**Задание 1**\\\n",
    "Проверить являются ли выборки связными."
   ]
  },
  {
   "cell_type": "code",
   "execution_count": 159,
   "id": "dafdfa86",
   "metadata": {},
   "outputs": [
    {
     "data": {
      "text/html": [
       "<div>\n",
       "<style scoped>\n",
       "    .dataframe tbody tr th:only-of-type {\n",
       "        vertical-align: middle;\n",
       "    }\n",
       "\n",
       "    .dataframe tbody tr th {\n",
       "        vertical-align: top;\n",
       "    }\n",
       "\n",
       "    .dataframe thead th {\n",
       "        text-align: right;\n",
       "    }\n",
       "</style>\n",
       "<table border=\"1\" class=\"dataframe\">\n",
       "  <thead>\n",
       "    <tr style=\"text-align: right;\">\n",
       "      <th></th>\n",
       "      <th>school_name</th>\n",
       "      <th>school_type</th>\n",
       "      <th>sat</th>\n",
       "      <th>acceptance_per</th>\n",
       "      <th>money_for_student</th>\n",
       "      <th>top_10_percent</th>\n",
       "      <th>phd_percent</th>\n",
       "      <th>grad_per</th>\n",
       "    </tr>\n",
       "  </thead>\n",
       "  <tbody>\n",
       "    <tr>\n",
       "      <th>0</th>\n",
       "      <td>Harvard</td>\n",
       "      <td>Univ</td>\n",
       "      <td>1370</td>\n",
       "      <td>18</td>\n",
       "      <td>46918</td>\n",
       "      <td>90</td>\n",
       "      <td>99</td>\n",
       "      <td>90</td>\n",
       "    </tr>\n",
       "    <tr>\n",
       "      <th>1</th>\n",
       "      <td>Stanford</td>\n",
       "      <td>Univ</td>\n",
       "      <td>1370</td>\n",
       "      <td>18</td>\n",
       "      <td>61921</td>\n",
       "      <td>92</td>\n",
       "      <td>96</td>\n",
       "      <td>88</td>\n",
       "    </tr>\n",
       "    <tr>\n",
       "      <th>2</th>\n",
       "      <td>Yale</td>\n",
       "      <td>Univ</td>\n",
       "      <td>1350</td>\n",
       "      <td>19</td>\n",
       "      <td>52468</td>\n",
       "      <td>90</td>\n",
       "      <td>97</td>\n",
       "      <td>93</td>\n",
       "    </tr>\n",
       "    <tr>\n",
       "      <th>3</th>\n",
       "      <td>Princeton</td>\n",
       "      <td>Univ</td>\n",
       "      <td>1340</td>\n",
       "      <td>17</td>\n",
       "      <td>48123</td>\n",
       "      <td>89</td>\n",
       "      <td>99</td>\n",
       "      <td>93</td>\n",
       "    </tr>\n",
       "    <tr>\n",
       "      <th>4</th>\n",
       "      <td>Cal Tech</td>\n",
       "      <td>Univ</td>\n",
       "      <td>1400</td>\n",
       "      <td>31</td>\n",
       "      <td>102262</td>\n",
       "      <td>98</td>\n",
       "      <td>98</td>\n",
       "      <td>75</td>\n",
       "    </tr>\n",
       "    <tr>\n",
       "      <th>5</th>\n",
       "      <td>MIT</td>\n",
       "      <td>Univ</td>\n",
       "      <td>1357</td>\n",
       "      <td>30</td>\n",
       "      <td>56766</td>\n",
       "      <td>95</td>\n",
       "      <td>98</td>\n",
       "      <td>86</td>\n",
       "    </tr>\n",
       "    <tr>\n",
       "      <th>6</th>\n",
       "      <td>Duke</td>\n",
       "      <td>Univ</td>\n",
       "      <td>1310</td>\n",
       "      <td>25</td>\n",
       "      <td>39504</td>\n",
       "      <td>91</td>\n",
       "      <td>95</td>\n",
       "      <td>91</td>\n",
       "    </tr>\n",
       "    <tr>\n",
       "      <th>7</th>\n",
       "      <td>Dartmouth</td>\n",
       "      <td>Univ</td>\n",
       "      <td>1306</td>\n",
       "      <td>25</td>\n",
       "      <td>35804</td>\n",
       "      <td>86</td>\n",
       "      <td>100</td>\n",
       "      <td>95</td>\n",
       "    </tr>\n",
       "    <tr>\n",
       "      <th>8</th>\n",
       "      <td>Cornell</td>\n",
       "      <td>Univ</td>\n",
       "      <td>1280</td>\n",
       "      <td>30</td>\n",
       "      <td>37137</td>\n",
       "      <td>85</td>\n",
       "      <td>90</td>\n",
       "      <td>83</td>\n",
       "    </tr>\n",
       "    <tr>\n",
       "      <th>9</th>\n",
       "      <td>Columbia</td>\n",
       "      <td>Univ</td>\n",
       "      <td>1268</td>\n",
       "      <td>29</td>\n",
       "      <td>45879</td>\n",
       "      <td>78</td>\n",
       "      <td>93</td>\n",
       "      <td>90</td>\n",
       "    </tr>\n",
       "    <tr>\n",
       "      <th>10</th>\n",
       "      <td>U of Chicago</td>\n",
       "      <td>Univ</td>\n",
       "      <td>1300</td>\n",
       "      <td>45</td>\n",
       "      <td>38937</td>\n",
       "      <td>74</td>\n",
       "      <td>100</td>\n",
       "      <td>73</td>\n",
       "    </tr>\n",
       "    <tr>\n",
       "      <th>11</th>\n",
       "      <td>Brown</td>\n",
       "      <td>Univ</td>\n",
       "      <td>1281</td>\n",
       "      <td>24</td>\n",
       "      <td>24201</td>\n",
       "      <td>80</td>\n",
       "      <td>98</td>\n",
       "      <td>90</td>\n",
       "    </tr>\n",
       "    <tr>\n",
       "      <th>12</th>\n",
       "      <td>U Penn</td>\n",
       "      <td>Univ</td>\n",
       "      <td>1280</td>\n",
       "      <td>41</td>\n",
       "      <td>30882</td>\n",
       "      <td>87</td>\n",
       "      <td>99</td>\n",
       "      <td>86</td>\n",
       "    </tr>\n",
       "    <tr>\n",
       "      <th>13</th>\n",
       "      <td>Berkeley</td>\n",
       "      <td>Univ</td>\n",
       "      <td>1176</td>\n",
       "      <td>37</td>\n",
       "      <td>23665</td>\n",
       "      <td>95</td>\n",
       "      <td>93</td>\n",
       "      <td>68</td>\n",
       "    </tr>\n",
       "    <tr>\n",
       "      <th>14</th>\n",
       "      <td>Johns Hopkins</td>\n",
       "      <td>Univ</td>\n",
       "      <td>1290</td>\n",
       "      <td>48</td>\n",
       "      <td>45460</td>\n",
       "      <td>69</td>\n",
       "      <td>58</td>\n",
       "      <td>86</td>\n",
       "    </tr>\n",
       "    <tr>\n",
       "      <th>15</th>\n",
       "      <td>Rice</td>\n",
       "      <td>Univ</td>\n",
       "      <td>1327</td>\n",
       "      <td>24</td>\n",
       "      <td>26730</td>\n",
       "      <td>85</td>\n",
       "      <td>95</td>\n",
       "      <td>88</td>\n",
       "    </tr>\n",
       "    <tr>\n",
       "      <th>16</th>\n",
       "      <td>UCLA</td>\n",
       "      <td>Univ</td>\n",
       "      <td>1142</td>\n",
       "      <td>43</td>\n",
       "      <td>26859</td>\n",
       "      <td>96</td>\n",
       "      <td>100</td>\n",
       "      <td>61</td>\n",
       "    </tr>\n",
       "    <tr>\n",
       "      <th>17</th>\n",
       "      <td>U Va.</td>\n",
       "      <td>Univ</td>\n",
       "      <td>1218</td>\n",
       "      <td>37</td>\n",
       "      <td>19365</td>\n",
       "      <td>77</td>\n",
       "      <td>91</td>\n",
       "      <td>88</td>\n",
       "    </tr>\n",
       "    <tr>\n",
       "      <th>18</th>\n",
       "      <td>Georgetown</td>\n",
       "      <td>Univ</td>\n",
       "      <td>1278</td>\n",
       "      <td>24</td>\n",
       "      <td>23115</td>\n",
       "      <td>79</td>\n",
       "      <td>89</td>\n",
       "      <td>89</td>\n",
       "    </tr>\n",
       "    <tr>\n",
       "      <th>19</th>\n",
       "      <td>UNC</td>\n",
       "      <td>Univ</td>\n",
       "      <td>1109</td>\n",
       "      <td>32</td>\n",
       "      <td>19684</td>\n",
       "      <td>82</td>\n",
       "      <td>84</td>\n",
       "      <td>73</td>\n",
       "    </tr>\n",
       "    <tr>\n",
       "      <th>20</th>\n",
       "      <td>U Michican</td>\n",
       "      <td>Univ</td>\n",
       "      <td>1195</td>\n",
       "      <td>60</td>\n",
       "      <td>21853</td>\n",
       "      <td>71</td>\n",
       "      <td>93</td>\n",
       "      <td>77</td>\n",
       "    </tr>\n",
       "    <tr>\n",
       "      <th>21</th>\n",
       "      <td>Carnegie Mellon</td>\n",
       "      <td>Univ</td>\n",
       "      <td>1225</td>\n",
       "      <td>64</td>\n",
       "      <td>33607</td>\n",
       "      <td>52</td>\n",
       "      <td>84</td>\n",
       "      <td>77</td>\n",
       "    </tr>\n",
       "    <tr>\n",
       "      <th>22</th>\n",
       "      <td>Northwestern</td>\n",
       "      <td>Univ</td>\n",
       "      <td>1230</td>\n",
       "      <td>47</td>\n",
       "      <td>28851</td>\n",
       "      <td>77</td>\n",
       "      <td>79</td>\n",
       "      <td>82</td>\n",
       "    </tr>\n",
       "    <tr>\n",
       "      <th>23</th>\n",
       "      <td>Washington U (MO)</td>\n",
       "      <td>Univ</td>\n",
       "      <td>1225</td>\n",
       "      <td>54</td>\n",
       "      <td>39883</td>\n",
       "      <td>71</td>\n",
       "      <td>98</td>\n",
       "      <td>76</td>\n",
       "    </tr>\n",
       "    <tr>\n",
       "      <th>24</th>\n",
       "      <td>U of Rochester</td>\n",
       "      <td>Univ</td>\n",
       "      <td>1155</td>\n",
       "      <td>56</td>\n",
       "      <td>38597</td>\n",
       "      <td>52</td>\n",
       "      <td>96</td>\n",
       "      <td>73</td>\n",
       "    </tr>\n",
       "  </tbody>\n",
       "</table>\n",
       "</div>"
      ],
      "text/plain": [
       "          school_name school_type   sat  acceptance_per  money_for_student  \\\n",
       "0             Harvard        Univ  1370              18              46918   \n",
       "1            Stanford        Univ  1370              18              61921   \n",
       "2                Yale        Univ  1350              19              52468   \n",
       "3           Princeton        Univ  1340              17              48123   \n",
       "4            Cal Tech        Univ  1400              31             102262   \n",
       "5                 MIT        Univ  1357              30              56766   \n",
       "6                Duke        Univ  1310              25              39504   \n",
       "7           Dartmouth        Univ  1306              25              35804   \n",
       "8             Cornell        Univ  1280              30              37137   \n",
       "9            Columbia        Univ  1268              29              45879   \n",
       "10       U of Chicago        Univ  1300              45              38937   \n",
       "11              Brown        Univ  1281              24              24201   \n",
       "12             U Penn        Univ  1280              41              30882   \n",
       "13           Berkeley        Univ  1176              37              23665   \n",
       "14      Johns Hopkins        Univ  1290              48              45460   \n",
       "15               Rice        Univ  1327              24              26730   \n",
       "16               UCLA        Univ  1142              43              26859   \n",
       "17              U Va.        Univ  1218              37              19365   \n",
       "18         Georgetown        Univ  1278              24              23115   \n",
       "19                UNC        Univ  1109              32              19684   \n",
       "20         U Michican        Univ  1195              60              21853   \n",
       "21    Carnegie Mellon        Univ  1225              64              33607   \n",
       "22       Northwestern        Univ  1230              47              28851   \n",
       "23  Washington U (MO)        Univ  1225              54              39883   \n",
       "24     U of Rochester        Univ  1155              56              38597   \n",
       "\n",
       "    top_10_percent  phd_percent  grad_per  \n",
       "0               90           99        90  \n",
       "1               92           96        88  \n",
       "2               90           97        93  \n",
       "3               89           99        93  \n",
       "4               98           98        75  \n",
       "5               95           98        86  \n",
       "6               91           95        91  \n",
       "7               86          100        95  \n",
       "8               85           90        83  \n",
       "9               78           93        90  \n",
       "10              74          100        73  \n",
       "11              80           98        90  \n",
       "12              87           99        86  \n",
       "13              95           93        68  \n",
       "14              69           58        86  \n",
       "15              85           95        88  \n",
       "16              96          100        61  \n",
       "17              77           91        88  \n",
       "18              79           89        89  \n",
       "19              82           84        73  \n",
       "20              71           93        77  \n",
       "21              52           84        77  \n",
       "22              77           79        82  \n",
       "23              71           98        76  \n",
       "24              52           96        73  "
      ]
     },
     "execution_count": 159,
     "metadata": {},
     "output_type": "execute_result"
    }
   ],
   "source": [
    "#разделение данных на две выборки по school_type\n",
    "lib_arts_df = df[df['school_type'] == 'Lib Arts'].reset_index(drop=True)\n",
    "univ_df = df[df['school_type'] == 'Univ'].reset_index(drop=True)\n",
    "univ_df"
   ]
  },
  {
   "cell_type": "code",
   "execution_count": 160,
   "id": "47ed4d97",
   "metadata": {},
   "outputs": [
    {
     "data": {
      "text/plain": [
       "array(['Harvard', 'Stanford', 'Yale', 'Princeton', 'Cal Tech', 'MIT',\n",
       "       'Duke', 'Dartmouth', 'Cornell', 'Columbia', 'U of Chicago',\n",
       "       'Brown', 'U Penn', 'Berkeley', 'Johns Hopkins', 'Rice', 'UCLA',\n",
       "       'U Va.', 'Georgetown', 'UNC', 'U Michican', 'Carnegie Mellon',\n",
       "       'Northwestern', 'Washington U (MO)', 'U of Rochester'],\n",
       "      dtype=object)"
      ]
     },
     "execution_count": 160,
     "metadata": {},
     "output_type": "execute_result"
    }
   ],
   "source": [
    "univ_df['school_name'].unique()"
   ]
  },
  {
   "cell_type": "code",
   "execution_count": 161,
   "id": "9bd0ce42",
   "metadata": {},
   "outputs": [
    {
     "data": {
      "text/plain": [
       "array(['Amherst', 'Swarthmore', 'Williams', 'Bowdoin', 'Wellesley',\n",
       "       'Pomona', 'Wesleyan (CT)', 'Middlebury', 'Smith', 'Davidson',\n",
       "       'Vassar', 'Carleton', 'Claremont McKenna', 'Oberlin',\n",
       "       'Washington & Lee', 'Grinnell', 'Mount Holyoke', 'Colby',\n",
       "       'Hamilton', 'Bates', 'Haverford', 'Colgate', 'Bryn Mawr',\n",
       "       'Occidental', 'Barnard'], dtype=object)"
      ]
     },
     "execution_count": 161,
     "metadata": {},
     "output_type": "execute_result"
    }
   ],
   "source": [
    "lib_arts_df['school_name'].unique()"
   ]
  },
  {
   "cell_type": "code",
   "execution_count": 162,
   "id": "31986123",
   "metadata": {},
   "outputs": [
    {
     "data": {
      "text/plain": [
       "array([False, False, False, False, False, False, False, False, False,\n",
       "       False, False, False, False, False, False, False, False, False,\n",
       "       False, False, False, False, False, False, False])"
      ]
     },
     "execution_count": 162,
     "metadata": {},
     "output_type": "execute_result"
    }
   ],
   "source": [
    "lib_arts_df['school_name'].unique() == univ_df['school_name'].unique()"
   ]
  },
  {
   "cell_type": "markdown",
   "id": "cb55f722",
   "metadata": {},
   "source": [
    "**Вывод:** данные выборки не связаны между собой."
   ]
  },
  {
   "cell_type": "markdown",
   "id": "3342d448-2170-49cc-8560-51fc1391db3a",
   "metadata": {},
   "source": [
    "**Задание 2**\\\n",
    "Постройте ящики с усами по каждой из характеристик (SAT ... Grad%) для каждого типа институтов. Какие из следующих утверждений верны (речь идет о наблюдаемых данных)?"
   ]
  },
  {
   "cell_type": "code",
   "execution_count": 163,
   "id": "612d58d7",
   "metadata": {},
   "outputs": [
    {
     "data": {
      "text/html": [
       "<div>\n",
       "<style scoped>\n",
       "    .dataframe tbody tr th:only-of-type {\n",
       "        vertical-align: middle;\n",
       "    }\n",
       "\n",
       "    .dataframe tbody tr th {\n",
       "        vertical-align: top;\n",
       "    }\n",
       "\n",
       "    .dataframe thead th {\n",
       "        text-align: right;\n",
       "    }\n",
       "</style>\n",
       "<table border=\"1\" class=\"dataframe\">\n",
       "  <thead>\n",
       "    <tr style=\"text-align: right;\">\n",
       "      <th></th>\n",
       "      <th>school_name</th>\n",
       "      <th>school_type</th>\n",
       "      <th>sat</th>\n",
       "      <th>acceptance_per</th>\n",
       "      <th>money_for_student</th>\n",
       "      <th>top_10_percent</th>\n",
       "      <th>phd_percent</th>\n",
       "      <th>grad_per</th>\n",
       "    </tr>\n",
       "  </thead>\n",
       "  <tbody>\n",
       "    <tr>\n",
       "      <th>0</th>\n",
       "      <td>Amherst</td>\n",
       "      <td>Lib Arts</td>\n",
       "      <td>1315</td>\n",
       "      <td>22</td>\n",
       "      <td>26636</td>\n",
       "      <td>85</td>\n",
       "      <td>81</td>\n",
       "      <td>93</td>\n",
       "    </tr>\n",
       "    <tr>\n",
       "      <th>1</th>\n",
       "      <td>Swarthmore</td>\n",
       "      <td>Lib Arts</td>\n",
       "      <td>1310</td>\n",
       "      <td>24</td>\n",
       "      <td>27487</td>\n",
       "      <td>78</td>\n",
       "      <td>93</td>\n",
       "      <td>88</td>\n",
       "    </tr>\n",
       "    <tr>\n",
       "      <th>2</th>\n",
       "      <td>Williams</td>\n",
       "      <td>Lib Arts</td>\n",
       "      <td>1336</td>\n",
       "      <td>28</td>\n",
       "      <td>23772</td>\n",
       "      <td>86</td>\n",
       "      <td>90</td>\n",
       "      <td>93</td>\n",
       "    </tr>\n",
       "    <tr>\n",
       "      <th>3</th>\n",
       "      <td>Bowdoin</td>\n",
       "      <td>Lib Arts</td>\n",
       "      <td>1300</td>\n",
       "      <td>24</td>\n",
       "      <td>25703</td>\n",
       "      <td>78</td>\n",
       "      <td>95</td>\n",
       "      <td>90</td>\n",
       "    </tr>\n",
       "    <tr>\n",
       "      <th>4</th>\n",
       "      <td>Wellesley</td>\n",
       "      <td>Lib Arts</td>\n",
       "      <td>1250</td>\n",
       "      <td>49</td>\n",
       "      <td>27879</td>\n",
       "      <td>76</td>\n",
       "      <td>91</td>\n",
       "      <td>86</td>\n",
       "    </tr>\n",
       "  </tbody>\n",
       "</table>\n",
       "</div>"
      ],
      "text/plain": [
       "  school_name school_type   sat  acceptance_per  money_for_student  \\\n",
       "0     Amherst    Lib Arts  1315              22              26636   \n",
       "1  Swarthmore    Lib Arts  1310              24              27487   \n",
       "2    Williams    Lib Arts  1336              28              23772   \n",
       "3     Bowdoin    Lib Arts  1300              24              25703   \n",
       "4   Wellesley    Lib Arts  1250              49              27879   \n",
       "\n",
       "   top_10_percent  phd_percent  grad_per  \n",
       "0              85           81        93  \n",
       "1              78           93        88  \n",
       "2              86           90        93  \n",
       "3              78           95        90  \n",
       "4              76           91        86  "
      ]
     },
     "execution_count": 163,
     "metadata": {},
     "output_type": "execute_result"
    }
   ],
   "source": [
    "df.head()"
   ]
  },
  {
   "cell_type": "code",
   "execution_count": 164,
   "id": "4f343aba",
   "metadata": {},
   "outputs": [
    {
     "name": "stdout",
     "output_type": "stream",
     "text": [
      "BOXPLOT № 1 по столбцу \"sat\"\n"
     ]
    },
    {
     "data": {
      "image/png": "[encoded data removed]",
      "text/plain": [
       "<Figure size 640x480 with 1 Axes>"
      ]
     },
     "metadata": {},
     "output_type": "display_data"
    },
    {
     "name": "stdout",
     "output_type": "stream",
     "text": [
      "BOXPLOT № 2 по столбцу \"acceptance_per\"\n"
     ]
    },
    {
     "data": {
      "image/png": "[encoded data removed]",
      "text/plain": [
       "<Figure size 640x480 with 1 Axes>"
      ]
     },
     "metadata": {},
     "output_type": "display_data"
    },
    {
     "name": "stdout",
     "output_type": "stream",
     "text": [
      "BOXPLOT № 3 по столбцу \"money_for_student\"\n"
     ]
    },
    {
     "data": {
      "image/png": "[encoded data removed]",
      "text/plain": [
       "<Figure size 640x480 with 1 Axes>"
      ]
     },
     "metadata": {},
     "output_type": "display_data"
    },
    {
     "name": "stdout",
     "output_type": "stream",
     "text": [
      "BOXPLOT № 4 по столбцу \"top_10_percent\"\n"
     ]
    },
    {
     "data": {
      "image/png": "[encoded data removed]",
      "text/plain": [
       "<Figure size 640x480 with 1 Axes>"
      ]
     },
     "metadata": {},
     "output_type": "display_data"
    },
    {
     "name": "stdout",
     "output_type": "stream",
     "text": [
      "BOXPLOT № 5 по столбцу \"phd_percent\"\n"
     ]
    },
    {
     "data": {
      "image/png": "[encoded data removed]",
      "text/plain": [
       "<Figure size 640x480 with 1 Axes>"
      ]
     },
     "metadata": {},
     "output_type": "display_data"
    },
    {
     "name": "stdout",
     "output_type": "stream",
     "text": [
      "BOXPLOT № 6 по столбцу \"grad_per\"\n"
     ]
    },
    {
     "data": {
      "image/png": "[encoded data removed]",
      "text/plain": [
       "<Figure size 640x480 with 1 Axes>"
      ]
     },
     "metadata": {},
     "output_type": "display_data"
    }
   ],
   "source": [
    "# ящики с усами по каждой из характеристик\n",
    "col_list = ['sat', 'acceptance_per', 'money_for_student', 'top_10_percent', 'phd_percent', 'grad_per']\n",
    "\n",
    "n = 1\n",
    "for col in col_list:\n",
    "    \n",
    "    print(f'BOXPLOT № {n} по столбцу \"{col}\"')\n",
    "    \n",
    "    \n",
    "    sns.boxplot(data=df, x='school_type', y=col)\n",
    "    plt.show()\n",
    "    n += 1"
   ]
  },
  {
   "cell_type": "code",
   "execution_count": 165,
   "id": "3c2519fb-8814-49ed-8638-4b658cd18bb1",
   "metadata": {
    "tags": []
   },
   "outputs": [
    {
     "data": {
      "text/html": [
       "<input type=\"checkbox\" id=\"0\">\n",
       "<label for=\"0\">% процент принятых студентов в школах искусств заметно ниже, чем в университетах</label><br>\n",
       "\n",
       "<input type=\"checkbox\" id=\"1\">\n",
       "<label for=\"1\">Разброс средств, расходуемых в среднем на одного студента, в школах искусств больше, чем в университетах</label><br>\n",
       "\n",
       "<input type=\"checkbox\" id=\"2\">\n",
       "<label for=\"2\">% процент принятых студентов в школах искусств и в университетах примерно равны</label><br>\n",
       "\n",
       "<input type=\"checkbox\" id=\"3\">\n",
       "<label for=\"3\">Разброс баллов SAT в университетах ниже, чем в школах искусств</label><br>\n",
       "\n",
       "<input type=\"checkbox\" id=\"0\">\n",
       "<label for=\"0\">Разброс баллов SAT в университетах выше, чем в школах искусств</label><br>\n",
       "\n",
       "<input type=\"checkbox\" id=\"0\">\n",
       "<label for=\"0\">Разброс средств, расходуемых в среднем на одного студента, в школах искусств меньше, чем в университетах</label><br>\n",
       "\n",
       "<input type=\"checkbox\" id=\"0\">\n",
       "<label for=\"0\">В одном из университетов тратят сильно больше денег в среднем на одного студента, чем в других университетах</label><br>\n",
       "\n",
       "<input type=\"checkbox\" id=\"0\">\n",
       "<label for=\"0\">Разброс баллов SAT в университетах и школах искусств практически не различается</label><br>\n",
       "\n",
       "<input type=\"checkbox\" id=\"0\">\n",
       "<label for=\"0\">% процент принятых студентов в школах искусств заметно выше, чем в университетах</label><br>\n"
      ],
      "text/plain": [
       "<IPython.core.display.HTML object>"
      ]
     },
     "metadata": {},
     "output_type": "display_data"
    }
   ],
   "source": [
    "%%HTML\n",
    "<input type=\"checkbox\" id=\"0\">\n",
    "<label for=\"0\">% процент принятых студентов в школах искусств заметно ниже, чем в университетах</label><br>\n",
    "\n",
    "<input type=\"checkbox\" id=\"1\">\n",
    "<label for=\"1\">Разброс средств, расходуемых в среднем на одного студента, в школах искусств больше, чем в университетах</label><br>\n",
    "\n",
    "<input type=\"checkbox\" id=\"2\">\n",
    "<label for=\"2\">% процент принятых студентов в школах искусств и в университетах примерно равны</label><br>\n",
    "\n",
    "<input type=\"checkbox\" id=\"3\">\n",
    "<label for=\"3\">Разброс баллов SAT в университетах ниже, чем в школах искусств</label><br>\n",
    "\n",
    "<input type=\"checkbox\" id=\"0\">\n",
    "<label for=\"0\">Разброс баллов SAT в университетах выше, чем в школах искусств</label><br>\n",
    "\n",
    "<input type=\"checkbox\" id=\"0\">\n",
    "<label for=\"0\">Разброс средств, расходуемых в среднем на одного студента, в школах искусств меньше, чем в университетах</label><br>\n",
    "\n",
    "<input type=\"checkbox\" id=\"0\">\n",
    "<label for=\"0\">В одном из университетов тратят сильно больше денег в среднем на одного студента, чем в других университетах</label><br>\n",
    "\n",
    "<input type=\"checkbox\" id=\"0\">\n",
    "<label for=\"0\">Разброс баллов SAT в университетах и школах искусств практически не различается</label><br>\n",
    "\n",
    "<input type=\"checkbox\" id=\"0\">\n",
    "<label for=\"0\">% процент принятых студентов в школах искусств заметно выше, чем в университетах</label><br>"
   ]
  },
  {
   "cell_type": "code",
   "execution_count": 167,
   "id": "13c4511e",
   "metadata": {},
   "outputs": [],
   "source": [
    "#галочки в чек-боксах не сохраняются, поэтому ответ в виде текста (только верные утверждения)"
   ]
  },
  {
   "cell_type": "markdown",
   "id": "e6826c2b",
   "metadata": {},
   "source": [
    "**Ответ:**\n",
    "+ % процент принятых студентов в школах искусств и в университетах примерно равны\n",
    "+ Разброс баллов SAT в университетах выше, чем в школах искусств\n",
    "+ Разброс средств, расходуемых в среднем на одного студента, в школах искусств меньше, чем в университетах\n",
    "+ В одном из университетов тратят сильно больше денег в среднем на одного студента, чем в других университетах"
   ]
  },
  {
   "cell_type": "markdown",
   "id": "fb292e51-1a1d-44b6-ab6c-8fd3ff0acdc4",
   "metadata": {},
   "source": [
    "**Задание 3**\\\n",
    "Постройте гистограммы по каждой из характеристик (SAT ... Grad%) для каждого типа институтов. Какие из следующих утверждений верны (речь идет о наблюдаемых данных)?\n",
    "\n",
    "Hint: для каждой пары связанных утверждений, надо выбрать одно из них."
   ]
  },
  {
   "cell_type": "code",
   "execution_count": null,
   "id": "db2a733c",
   "metadata": {},
   "outputs": [],
   "source": [
    "df_merged['sm_price'].hist(figsize=(10, 8), legend=True)\n",
    "plt.title('Распределение стоимости м^2')\n",
    "plt.show()\n",
    "\n",
    "import pandas as pd\n",
    "import matplotlib.pyplot as plt\n",
    "\n",
    "# Предположим, что у вас есть DataFrame с названием df, содержащий данные\n",
    "\n",
    "# Пример создания DataFrame для демонстрации\n",
    "data = {\n",
    "    'sat': [1200, 1100, 1300, 1250, 1150, 1350, 1400, 1250, 1100, 1300],\n",
    "    'school_type': ['public', 'private', 'public', 'private', 'public', 'private', 'public', 'private', 'public', 'private']\n",
    "}\n",
    "\n",
    "df = pd.DataFrame(data)\n",
    "\n",
    "# Группируем данные по типу школы\n",
    "grouped = df.groupby('school_type')\n",
    "\n",
    "# Создаем гистограмму для каждого типа школы\n",
    "plt.figure(figsize=(8, 6))\n",
    "for name, group in grouped:\n",
    "    plt.hist(group['sat'], bins=10, alpha=0.5, label=name)\n",
    "\n",
    "plt.xlabel('SAT Score')\n",
    "plt.ylabel('Frequency')\n",
    "plt.title('SAT Scores Distribution by School Type')\n",
    "plt.legend()\n",
    "plt.grid(True)\n",
    "plt.show()"
   ]
  },
  {
   "cell_type": "code",
   "execution_count": 192,
   "id": "bafd4ae0",
   "metadata": {},
   "outputs": [
    {
     "data": {
      "image/png": "[encoded data removed]",
      "text/plain": [
       "<Figure size 800x600 with 1 Axes>"
      ]
     },
     "metadata": {},
     "output_type": "display_data"
    },
    {
     "name": "stdout",
     "output_type": "stream",
     "text": [
      "\n"
     ]
    },
    {
     "data": {
      "image/png": "[encoded data removed]",
      "text/plain": [
       "<Figure size 800x600 with 1 Axes>"
      ]
     },
     "metadata": {},
     "output_type": "display_data"
    },
    {
     "name": "stdout",
     "output_type": "stream",
     "text": [
      "\n"
     ]
    },
    {
     "data": {
      "image/png": "[encoded data removed]",
      "text/plain": [
       "<Figure size 800x600 with 1 Axes>"
      ]
     },
     "metadata": {},
     "output_type": "display_data"
    },
    {
     "name": "stdout",
     "output_type": "stream",
     "text": [
      "\n"
     ]
    },
    {
     "data": {
      "image/png": "[encoded data removed]",
      "text/plain": [
       "<Figure size 800x600 with 1 Axes>"
      ]
     },
     "metadata": {},
     "output_type": "display_data"
    },
    {
     "name": "stdout",
     "output_type": "stream",
     "text": [
      "\n"
     ]
    },
    {
     "data": {
      "image/png": "[encoded data removed]",
      "text/plain": [
       "<Figure size 800x600 with 1 Axes>"
      ]
     },
     "metadata": {},
     "output_type": "display_data"
    },
    {
     "name": "stdout",
     "output_type": "stream",
     "text": [
      "\n"
     ]
    },
    {
     "data": {
      "image/png": "[encoded data removed]",
      "text/plain": [
       "<Figure size 800x600 with 1 Axes>"
      ]
     },
     "metadata": {},
     "output_type": "display_data"
    },
    {
     "name": "stdout",
     "output_type": "stream",
     "text": [
      "\n"
     ]
    }
   ],
   "source": [
    "col_list = ['sat', 'acceptance_per', 'money_for_student', 'top_10_percent', 'phd_percent', 'grad_per']\n",
    "\n",
    "for col in col_list:\n",
    "    plt.figure(figsize=(8, 6))\n",
    "    plt.hist(univ_df[col], alpha=0.7, label='Univ')\n",
    "    plt.hist(lib_arts_df[col], alpha=0.5, label='Lib Arts')\n",
    "    plt.title(f'По столбцу {col}')\n",
    "    plt.legend()\n",
    "    plt.show()\n",
    "    print()"
   ]
  },
  {
   "cell_type": "code",
   "execution_count": 195,
   "id": "9cbdd212-41f7-43bd-b580-6a0572783b7a",
   "metadata": {},
   "outputs": [
    {
     "data": {
      "text/html": [
       "<input type=\"checkbox\" id=\"0\">\n",
       "<label for=\"0\"></label>Распределение процента факультетов с Phd в школах искусств напоминает \"нормальное\"<br>\n",
       "\n",
       "<input type=\"checkbox\" id=\"1\">\n",
       "<label for=\"1\">Распределение процента факультетов с Phd в университетах напоминает \"нормальное\"</label><br>\n",
       "\n",
       "<input type=\"checkbox\" id=\"2\">\n",
       "<label for=\"2\"></label>Гистограмма процента студентов, которые успешно завершили университеты, имеет несколько пиков<br>\n",
       "\n",
       "<input type=\"checkbox\" id=\"3\">\n",
       "<label for=\"3\">Гистограмма процента студентов, которые успешно завершили школы искусств, имеет несколько пиков</label><br>\n",
       "\n",
       "<input type=\"checkbox\" id=\"5\">\n",
       "<label for=\"5\">В университетах процент факультетов с Phd выше</label><br>\n",
       "\n",
       "<input type=\"checkbox\" id=\"4\">\n",
       "<label for=\"4\">В школах искусств процент факультетов с Phd выше</label><br>\n"
      ],
      "text/plain": [
       "<IPython.core.display.HTML object>"
      ]
     },
     "metadata": {},
     "output_type": "display_data"
    }
   ],
   "source": [
    "%%HTML\n",
    "<input type=\"checkbox\" id=\"0\">\n",
    "<label for=\"0\"></label>Распределение процента факультетов с Phd в школах искусств напоминает \"нормальное\"<br>\n",
    "\n",
    "<input type=\"checkbox\" id=\"1\">\n",
    "<label for=\"1\">Распределение процента факультетов с Phd в университетах напоминает \"нормальное\"</label><br>\n",
    "\n",
    "<input type=\"checkbox\" id=\"2\">\n",
    "<label for=\"2\"></label>Гистограмма процента студентов, которые успешно завершили университеты, имеет несколько пиков<br>\n",
    "\n",
    "<input type=\"checkbox\" id=\"3\">\n",
    "<label for=\"3\">Гистограмма процента студентов, которые успешно завершили школы искусств, имеет несколько пиков</label><br>\n",
    "\n",
    "<input type=\"checkbox\" id=\"5\">\n",
    "<label for=\"5\">В университетах процент факультетов с Phd выше</label><br>\n",
    "\n",
    "<input type=\"checkbox\" id=\"4\">\n",
    "<label for=\"4\">В школах искусств процент факультетов с Phd выше</label><br>"
   ]
  },
  {
   "cell_type": "markdown",
   "id": "d3df9955",
   "metadata": {},
   "source": [
    "**Ответ:**\n",
    "+ Распределение процента факультетов с Phd в школах искусств напоминает \"нормальное\"\n",
    "+ Гистограмма процента студентов, которые успешно завершили школы искусств, имеет несколько пиков\n",
    "+ В университетах процент факультетов с Phd выше"
   ]
  },
  {
   "cell_type": "markdown",
   "id": "a89a8af4-11cb-42c1-8da7-beaf90ee1163",
   "metadata": {},
   "source": [
    "**Задание 4**\\\n",
    "Найдите:\n",
    "+ выборочное среднее SAT школ искусств;\n",
    "+ 3й выборочный квартиль Acceptance университетов;\n",
    "+ название института(колледжа), в котором тратят денег в среднем на одного студента больше, чем в других институтах(колледжах)."
   ]
  },
  {
   "cell_type": "code",
   "execution_count": 196,
   "id": "b63f0a91-148c-48af-92dd-1e376b5b3648",
   "metadata": {},
   "outputs": [
    {
     "data": {
      "text/plain": [
       "1256.64"
      ]
     },
     "execution_count": 196,
     "metadata": {},
     "output_type": "execute_result"
    }
   ],
   "source": [
    "#выборочное среднее SAT школ искусств\n",
    "lib_arts_df['sat'].mean()"
   ]
  },
  {
   "cell_type": "code",
   "execution_count": 199,
   "id": "29229c27-67c1-4a74-8314-0c811c0a37f1",
   "metadata": {},
   "outputs": [
    {
     "data": {
      "text/plain": [
       "0.75    45.0\n",
       "Name: acceptance_per, dtype: float64"
      ]
     },
     "execution_count": 199,
     "metadata": {},
     "output_type": "execute_result"
    }
   ],
   "source": [
    "#3-й выборочный квартиль Acceptance университетов\n",
    "univ_df['acceptance_per'].quantile([0.75])"
   ]
  },
  {
   "cell_type": "code",
   "execution_count": 213,
   "id": "66646d8f",
   "metadata": {},
   "outputs": [
    {
     "name": "stdout",
     "output_type": "stream",
     "text": [
      "4    Cal Tech\n",
      "Name: school_name, dtype: object\n"
     ]
    }
   ],
   "source": [
    "#название института, в котором тратят денег в среднем на одного студента больше всего\n",
    "name = univ_df[univ_df['money_for_student'] == max(univ_df['money_for_student'])]\n",
    "print(name['school_name'])"
   ]
  }
 ],
 "metadata": {
  "kernelspec": {
   "display_name": "Python 3 (ipykernel)",
   "language": "python",
   "name": "python3"
  },
  "language_info": {
   "codemirror_mode": {
    "name": "ipython",
    "version": 3
   },
   "file_extension": ".py",
   "mimetype": "text/x-python",
   "name": "python",
   "nbconvert_exporter": "python",
   "pygments_lexer": "ipython3",
   "version": "3.9.13"
  }
 },
 "nbformat": 4,
 "nbformat_minor": 5
}
